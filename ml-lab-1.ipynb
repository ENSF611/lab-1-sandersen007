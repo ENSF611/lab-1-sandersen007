{
 "cells": [
  {
   "cell_type": "code",
   "execution_count": 1,
   "metadata": {},
   "outputs": [
    {
     "name": "stdout",
     "output_type": "stream",
     "text": [
      "Python version: 3.9.13 (main, Aug 25 2022, 23:51:50) [MSC v.1916 64 bit (AMD64)]\n",
      "pandas version: 1.4.3\n",
      "matplotlib version: 3.5.2\n",
      "NumPy version: 1.21.5\n",
      "SciPy version: 1.7.3\n",
      "IPython version: 8.4.0\n",
      "scikit-learn version: 1.1.1\n",
      "yellowbrick version: 1.5\n"
     ]
    }
   ],
   "source": [
    "import sys\n",
    "\n",
    "print(\"Python version:\", sys.version)\n",
    "\n",
    " \n",
    "\n",
    "import pandas as pd\n",
    "\n",
    "print(\"pandas version:\", pd.__version__)\n",
    "\n",
    " \n",
    "\n",
    "import matplotlib\n",
    "\n",
    "print(\"matplotlib version:\", matplotlib.__version__)\n",
    "\n",
    " \n",
    "\n",
    "import numpy as np\n",
    "\n",
    "print(\"NumPy version:\", np.__version__)\n",
    "\n",
    " \n",
    "\n",
    "import scipy as sp\n",
    "\n",
    "print(\"SciPy version:\", sp.__version__)\n",
    "\n",
    " \n",
    "\n",
    "import IPython\n",
    "\n",
    "print(\"IPython version:\", IPython.__version__)\n",
    "\n",
    " \n",
    "\n",
    "import sklearn\n",
    "\n",
    "print(\"scikit-learn version:\", sklearn.__version__)\n",
    "\n",
    " \n",
    "\n",
    "import yellowbrick\n",
    "\n",
    "print(\"yellowbrick version:\", yellowbrick.__version__)"
   ]
  }
 ],
 "metadata": {
  "kernelspec": {
   "display_name": "Python 3.9.13 ('ensf-ml')",
   "language": "python",
   "name": "python3"
  },
  "language_info": {
   "codemirror_mode": {
    "name": "ipython",
    "version": 3
   },
   "file_extension": ".py",
   "mimetype": "text/x-python",
   "name": "python",
   "nbconvert_exporter": "python",
   "pygments_lexer": "ipython3",
   "version": "3.9.13"
  },
  "orig_nbformat": 4,
  "vscode": {
   "interpreter": {
    "hash": "150e2788cf1042ffc79871c342ed9893d86c926345c2562d81da2a16316bfc6e"
   }
  }
 },
 "nbformat": 4,
 "nbformat_minor": 2
}
